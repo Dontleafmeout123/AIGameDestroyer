{
  "nbformat": 4,
  "nbformat_minor": 0,
  "metadata": {
    "colab": {
      "provenance": []
    },
    "kernelspec": {
      "name": "python3",
      "display_name": "Python 3"
    },
    "language_info": {
      "name": "python"
    }
  },
  "cells": [
    {
      "cell_type": "code",
      "execution_count": 1,
      "metadata": {
        "id": "Zdmg5o9386l6"
      },
      "outputs": [],
      "source": [
        "#!pip install -Uqq ipdb\n",
        "#import ipdb #useful for breakpoints\n",
        "import numpy as np\n",
        "from IPython.display import clear_output #to keep it clear\n",
        "import tensorflow as tf\n",
        "from tensorflow.keras import layers"
      ]
    },
    {
      "cell_type": "code",
      "source": [],
      "metadata": {
        "id": "kmlkcaphAooO"
      },
      "execution_count": null,
      "outputs": []
    },
    {
      "cell_type": "code",
      "source": [],
      "metadata": {
        "id": "v84-BBFdAqIi"
      },
      "execution_count": null,
      "outputs": []
    },
    {
      "cell_type": "code",
      "source": [],
      "metadata": {
        "id": "cH9IbuYUAqlW"
      },
      "execution_count": null,
      "outputs": []
    },
    {
      "cell_type": "code",
      "source": [
        "#ChatGPT Solution\n",
        "def print_board(board):\n",
        "    for i in range(9):\n",
        "        for j in range(9):\n",
        "            print(board[i][j], end=\" \")\n",
        "            if (j+1) % 3 == 0:\n",
        "              print( \"| \", end=\" \")\n",
        "        if (i+1)%3 == 0:\n",
        "          print()\n",
        "          print(\"_________________________\", end=\" \")\n",
        "        print()\n",
        "\n",
        "def is_valid(board, row, col, num):\n",
        "    # Check if the number is already in the row or column\n",
        "    for i in range(9):\n",
        "        if board[row][i] == num or board[i][col] == num:\n",
        "            return False\n",
        "\n",
        "    # Check if the number is in the 3x3 grid\n",
        "    start_row, start_col = 3 * (row // 3), 3 * (col // 3)\n",
        "    for i in range(3):\n",
        "        for j in range(3):\n",
        "            if board[start_row + i][start_col + j] == num:\n",
        "                return False\n",
        "\n",
        "    return True\n",
        "\n",
        "def solve_sudoku(board):\n",
        "    empty_cell = find_empty_cell(board)\n",
        "\n",
        "    # If there is no empty cell, the puzzle is solved\n",
        "    if not empty_cell:\n",
        "        return True\n",
        "\n",
        "    row, col = empty_cell\n",
        "\n",
        "    for num in range(1, 10):\n",
        "        if is_valid(board, row, col, num):\n",
        "            board[row][col] = num\n",
        "\n",
        "            if solve_sudoku(board):\n",
        "                return True\n",
        "\n",
        "            # If placing the current number doesn't lead to a solution, backtrack\n",
        "            board[row][col] = 0\n",
        "\n",
        "    # No valid number was found, backtrack\n",
        "    return False\n",
        "\n",
        "def find_empty_cell(board):\n",
        "    for i in range(9):\n",
        "        for j in range(9):\n",
        "            if board[i][j] == 0:\n",
        "                return (i, j)\n",
        "    return None\n",
        "\n"
      ],
      "metadata": {
        "id": "C6NxVHUD9ggt"
      },
      "execution_count": 20,
      "outputs": []
    },
    {
      "cell_type": "code",
      "source": [
        "hard_sudoku = np.array([\n",
        "    [0, 0, 0, 5, 0, 0, 0, 2, 0],\n",
        "    [0, 8, 0, 4, 0, 6, 0, 0, 0],\n",
        "    [0, 0, 0, 0, 0, 0, 1, 0, 8],\n",
        "    [0, 0, 0, 0, 2, 0, 8, 0, 0],\n",
        "    [0, 6, 0, 0, 1, 0, 0, 4, 0],\n",
        "    [0, 0, 1, 0, 0, 0, 0, 0, 0],\n",
        "    [7, 0, 5, 0, 0, 0, 0, 0, 0],\n",
        "    [0, 0, 0, 3, 0, 7, 0, 9, 0],\n",
        "    [0, 0, 0, 0, 0, 9, 0, 0, 0]\n",
        "])"
      ],
      "metadata": {
        "id": "mlVjln7h-CeN"
      },
      "execution_count": 21,
      "outputs": []
    },
    {
      "cell_type": "code",
      "source": [
        "# Example Sudoku board (0 represents empty cells)\n",
        "sudoku_board = hard_sudoku\n",
        "\n",
        "print(\"Sudoku puzzle:\")\n",
        "print_board(sudoku_board)\n",
        "print(\"\\nSolving...\\n\")\n",
        "\n",
        "if solve_sudoku(sudoku_board):\n",
        "    print(\"Sudoku solution:\")\n",
        "    print_board(sudoku_board)\n",
        "else:\n",
        "    print(\"No solution exists.\")"
      ],
      "metadata": {
        "colab": {
          "base_uri": "https://localhost:8080/"
        },
        "id": "pMXz0dil9nms",
        "outputId": "f008b863-fc61-488d-8807-bd56a2118b14"
      },
      "execution_count": 22,
      "outputs": [
        {
          "output_type": "stream",
          "name": "stdout",
          "text": [
            "Sudoku puzzle:\n",
            "0 0 0 |  5 0 0 |  0 2 0 |  \n",
            "0 8 0 |  4 0 6 |  0 0 0 |  \n",
            "0 0 0 |  0 0 0 |  1 0 8 |  \n",
            "_________________________ \n",
            "0 0 0 |  0 2 0 |  8 0 0 |  \n",
            "0 6 0 |  0 1 0 |  0 4 0 |  \n",
            "0 0 1 |  0 0 0 |  0 0 0 |  \n",
            "_________________________ \n",
            "7 0 5 |  0 0 0 |  0 0 0 |  \n",
            "0 0 0 |  3 0 7 |  0 9 0 |  \n",
            "0 0 0 |  0 0 9 |  0 0 0 |  \n",
            "_________________________ \n",
            "\n",
            "Solving...\n",
            "\n",
            "Sudoku solution:\n",
            "3 7 6 |  5 8 1 |  4 2 9 |  \n",
            "1 8 2 |  4 9 6 |  3 5 7 |  \n",
            "4 5 9 |  2 7 3 |  1 6 8 |  \n",
            "_________________________ \n",
            "5 3 7 |  9 2 4 |  8 1 6 |  \n",
            "2 6 8 |  7 1 5 |  9 4 3 |  \n",
            "9 4 1 |  6 3 8 |  2 7 5 |  \n",
            "_________________________ \n",
            "7 9 5 |  8 4 2 |  6 3 1 |  \n",
            "8 1 4 |  3 6 7 |  5 9 2 |  \n",
            "6 2 3 |  1 5 9 |  7 8 4 |  \n",
            "_________________________ \n"
          ]
        }
      ]
    },
    {
      "cell_type": "code",
      "source": [],
      "metadata": {
        "id": "S2IKPmbf-EeI"
      },
      "execution_count": null,
      "outputs": []
    }
  ]
}